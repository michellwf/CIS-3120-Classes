{
 "cells": [
  {
   "cell_type": "code",
   "execution_count": 1,
   "id": "6b88b4bc-a5c4-436d-9eed-8e95600f6d53",
   "metadata": {
    "editable": true,
    "scrolled": true,
    "slideshow": {
     "slide_type": ""
    },
    "tags": []
   },
   "outputs": [],
   "source": [
    "from Animal import Animal"
   ]
  },
  {
   "cell_type": "code",
   "execution_count": 9,
   "id": "738a52e3-faf1-4f92-8835-fed5b5e36dfe",
   "metadata": {
    "editable": true,
    "scrolled": true,
    "slideshow": {
     "slide_type": ""
    },
    "tags": []
   },
   "outputs": [
    {
     "name": "stdout",
     "output_type": "stream",
     "text": [
      "Hello, I am Tommy and I am a dog\n",
      "Energy level: 100\n",
      "Woof Woof!\n",
      "Energy level: 90\n",
      "Tommy loves treats and running\n",
      "Energy level: 80\n",
      "Tommy plays happily\n",
      "Energy level: 35\n",
      "Tommy eats lots of tasty food\n",
      "Energy level: 85\n",
      "It's the end of the day and Tommy goes to sleep\n",
      "Energy level: 100\n",
      "Bye Woof Bye Woof!\n"
     ]
    }
   ],
   "source": [
    "dog = Animal(\"Tommy\",\"dog\")\n",
    "dog.sound(\"Woof\")\n",
    "dog.love(\"treats\", \"running\")\n",
    "dog.play()\n",
    "dog.food()\n",
    "dog.sleep()"
   ]
  },
  {
   "cell_type": "code",
   "execution_count": null,
   "id": "728c6cdf-7aa0-466d-803f-454d11797250",
   "metadata": {},
   "outputs": [],
   "source": []
  },
  {
   "cell_type": "code",
   "execution_count": null,
   "id": "04da1fa1-5c54-4569-a1c9-23c3cd0b70be",
   "metadata": {},
   "outputs": [],
   "source": []
  },
  {
   "cell_type": "code",
   "execution_count": null,
   "id": "7bea27dc-abc6-4966-bf31-d1fb0826b70c",
   "metadata": {},
   "outputs": [],
   "source": []
  },
  {
   "cell_type": "code",
   "execution_count": null,
   "id": "c315764f-a34c-434f-97c4-c6968ec307f7",
   "metadata": {},
   "outputs": [],
   "source": []
  }
 ],
 "metadata": {
  "kernelspec": {
   "display_name": "Python [conda env:base] *",
   "language": "python",
   "name": "conda-base-py"
  },
  "language_info": {
   "codemirror_mode": {
    "name": "ipython",
    "version": 3
   },
   "file_extension": ".py",
   "mimetype": "text/x-python",
   "name": "python",
   "nbconvert_exporter": "python",
   "pygments_lexer": "ipython3",
   "version": "3.12.7"
  }
 },
 "nbformat": 4,
 "nbformat_minor": 5
}
